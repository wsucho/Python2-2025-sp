{
 "cells": [
  {
   "attachments": {},
   "cell_type": "markdown",
   "id": "0a08151a-5d77-4b29-b70a-3af71e4807ee",
   "metadata": {},
   "source": [
    "### Write a python for loop that prints the first negative number in a sequence"
   ]
  },
  {
   "cell_type": "code",
   "execution_count": 3,
   "id": "5c49aac2-474a-4c53-9b79-8348200f9291",
   "metadata": {},
   "outputs": [
    {
     "name": "stdout",
     "output_type": "stream",
     "text": [
      "first negative number:  -4\n"
     ]
    }
   ],
   "source": [
    "for item in [1,2,3,-4,5]:\n",
    "    if (item < 0):\n",
    "        print(\"first negative number: \", item)\n",
    "        break"
   ]
  },
  {
   "attachments": {},
   "cell_type": "markdown",
   "id": "f935e3f2-ab1c-4504-ba3a-14160429fb6e",
   "metadata": {},
   "source": [
    "### Now modify the previous code to print the index of the first negative number instead"
   ]
  },
  {
   "cell_type": "code",
   "execution_count": 4,
   "id": "6aa14b5a-f6cf-4675-95aa-9f65e3e1338d",
   "metadata": {},
   "outputs": [
    {
     "name": "stdout",
     "output_type": "stream",
     "text": [
      "index of the first negative number:  3\n"
     ]
    }
   ],
   "source": [
    "index = 0\n",
    "for item in [1,2,3,-4,5]:\n",
    "    if (item < 0):\n",
    "        print(\"Index of first negative number: \", index)\n",
    "        break\n",
    "    index += 1"
   ]
  },
  {
   "cell_type": "code",
   "execution_count": 5,
   "id": "f7d449b1-5fb5-4de3-b96c-fc5f2fbca385",
   "metadata": {},
   "outputs": [
    {
     "name": "stdout",
     "output_type": "stream",
     "text": [
      "Index of first negative number: 3\n"
     ]
    }
   ],
   "source": [
    "for index, item in enumerate([1,2,3,-4,5]):\n",
    "    if item < 0:\n",
    "        print(\"Index of first negative number:\", index)\n",
    "        break "
   ]
  },
  {
   "cell_type": "code",
   "execution_count": 9,
   "id": "7ff9edd8-1492-4064-8710-2ea24ce4e4ee",
   "metadata": {},
   "outputs": [
    {
     "name": "stdout",
     "output_type": "stream",
     "text": [
      "0 1 2 3 4 5 6 7 8 9 "
     ]
    }
   ],
   "source": [
    "for i in range(10):\n",
    "    print(i, end=' ')\n",
    "    if i == 4:\n",
    "        i = 10"
   ]
  },
  {
   "attachments": {},
   "cell_type": "markdown",
   "id": "00f7268b-f446-4a1d-8b2f-0dd2de0c3aff",
   "metadata": {},
   "source": [
    "### Write a python program to find all the factors of a number\n",
    "### E.g., Factors of 24: 1,2,3,4,6,8,12,24"
   ]
  },
  {
   "cell_type": "code",
   "execution_count": 12,
   "id": "8b78dade-61c2-4830-b340-1e4ebc0618c2",
   "metadata": {},
   "outputs": [
    {
     "name": "stdout",
     "output_type": "stream",
     "text": [
      "Factors of 24 is [1, 2, 3, 4, 6, 8, 12, 24]\n"
     ]
    }
   ],
   "source": [
    "num = 24\n",
    "index = 1\n",
    "factors = [1]\n",
    "while (index <= num):\n",
    "    index += 1\n",
    "    if (num % index == 0):\n",
    "        factors.append(index)\n",
    "print(f\"Factors of {num} is {factors}\")"
   ]
  },
  {
   "cell_type": "code",
   "execution_count": 14,
   "id": "4a9d6cb5-cf24-4c03-9b51-8cb86e759866",
   "metadata": {},
   "outputs": [
    {
     "name": "stdout",
     "output_type": "stream",
     "text": [
      "Factors of 24: [1, 2, 3, 4, 6, 8, 12, 24]\n"
     ]
    }
   ],
   "source": [
    "def factors(n):\n",
    "    \"\"\"Returns a list of factors of the given integer n.\"\"\"\n",
    "    if n <= 0:\n",
    "        print(\"Input must be a positive integer.\")\n",
    "        return\n",
    "    return [i for i in range(1, n + 1) if n % i == 0]\n",
    "\n",
    "num = 24\n",
    "print(f\"Factors of {num}: {factors(num)}\")"
   ]
  },
  {
   "attachments": {},
   "cell_type": "markdown",
   "id": "faaa81ef-29d8-4c7a-ba39-9ef441f38a8e",
   "metadata": {},
   "source": [
    "### Write a python program to check if a number is prime or not"
   ]
  },
  {
   "cell_type": "code",
   "execution_count": 44,
   "id": "e241cf61-b9b0-42d3-832e-5b1de68f5a8f",
   "metadata": {},
   "outputs": [
    {
     "name": "stdout",
     "output_type": "stream",
     "text": [
      "number 23 is a prime\n"
     ]
    }
   ],
   "source": [
    "number = 23\n",
    "devisor = 2\n",
    "while (devisor < number):\n",
    "    if (number % devisor == 0):\n",
    "        print(f\"number {number} is not a prime\")\n",
    "        break\n",
    "    devisor += 1\n",
    "\n",
    "if (devisor == number):\n",
    "    print(f\"number {number} is a prime\")"
   ]
  },
  {
   "cell_type": "code",
   "execution_count": 53,
   "id": "a65d0aac-95c6-4712-b730-329509ead685",
   "metadata": {},
   "outputs": [],
   "source": [
    "def is_prime(n):\n",
    "    if (n < 2):\n",
    "        return False\n",
    "    d = 2\n",
    "    while (d < n):\n",
    "        if (n % d == 0):\n",
    "            return False\n",
    "        d += 1\n",
    "    return True"
   ]
  },
  {
   "cell_type": "code",
   "execution_count": 59,
   "id": "b4d8ab38-c67b-40e1-b9d4-2f0cea3b510e",
   "metadata": {},
   "outputs": [
    {
     "name": "stdin",
     "output_type": "stream",
     "text": [
      "Enter an integer:  2\n"
     ]
    },
    {
     "name": "stdout",
     "output_type": "stream",
     "text": [
      "2 is prime\n"
     ]
    }
   ],
   "source": [
    "num = int(input(\"Enter an integer: \"))\n",
    "if is_prime(num): \n",
    "    print(f\"{num} is prime\")\n",
    "else:\n",
    "    print(f\"{num} is not prime\")"
   ]
  },
  {
   "cell_type": "code",
   "execution_count": 71,
   "id": "41ec9fee-498b-4b4c-9306-bed0e2233c94",
   "metadata": {},
   "outputs": [
    {
     "name": "stdout",
     "output_type": "stream",
     "text": [
      "Before the call, x is 1\n",
      "x inside the function is 2\n",
      "After the call, x is 1\n"
     ]
    }
   ],
   "source": [
    "def main():\n",
    "    x = 1\n",
    "    print(\"Before the call, x is\", x)\n",
    "    increment(x)\n",
    "    print(\"After the call, x is\", x)\n",
    "          \n",
    "def increment(x):\n",
    "    x += 1\n",
    "    print(\"x inside the function is\", x)\n",
    "main()\n"
   ]
  },
  {
   "cell_type": "code",
   "execution_count": 73,
   "id": "f20a0d74-eb55-4dc8-9bb4-bda9c2517d51",
   "metadata": {},
   "outputs": [
    {
     "name": "stdout",
     "output_type": "stream",
     "text": [
      "2\n"
     ]
    }
   ],
   "source": [
    "print(2) # simple "
   ]
  },
  {
   "cell_type": "code",
   "execution_count": 91,
   "id": "98c2cb35-0258-40f6-8651-e35c5a673110",
   "metadata": {},
   "outputs": [
    {
     "name": "stdout",
     "output_type": "stream",
     "text": [
      "global x is  5\n",
      "outer x is  10\n",
      "inner x is  20\n"
     ]
    }
   ],
   "source": [
    "x = 5\n",
    "print('global x is ', x)\n",
    "def foo():\n",
    "    x = 10\n",
    "    print('outer x is ', x)\n",
    "    def bar():\n",
    "        x = 20\n",
    "        print('inner x is ', x)\n",
    "    bar()\n",
    "foo()"
   ]
  },
  {
   "attachments": {},
   "cell_type": "markdown",
   "id": "938cf3ea-966b-4937-954c-4316758ad925",
   "metadata": {},
   "source": [
    "### Filter out (remove) all even numbers from the above list"
   ]
  },
  {
   "cell_type": "code",
   "execution_count": 138,
   "id": "e8b82a21-d4cd-4f19-9797-dccf9a7aa8fc",
   "metadata": {
    "scrolled": true
   },
   "outputs": [
    {
     "name": "stdout",
     "output_type": "stream",
     "text": [
      "[12, 2, 20, 4]\n"
     ]
    }
   ],
   "source": [
    "list1 = [1, 12, 2, 20, 3, 15, 4]\n",
    "list1 = [item for item in list1 if item%2 == 0]\n",
    "print(list1)"
   ]
  },
  {
   "cell_type": "code",
   "execution_count": 223,
   "id": "d5b9317b-15be-443b-8521-f9846077d8f2",
   "metadata": {},
   "outputs": [],
   "source": [
    "text = [\n",
    "        \"First line of text.\",\n",
    "        \"Second line with some more information.\",\n",
    "        \"Third line - this is the end!\"\n",
    "    ]\n",
    "with open(\"out.txt\", 'w') as file:\n",
    "    file.write('\\n'.join(text) + '\\n')"
   ]
  },
  {
   "cell_type": "code",
   "execution_count": 214,
   "id": "b87a2e0c-397c-48f6-a195-c0ef2b59c0d0",
   "metadata": {},
   "outputs": [
    {
     "data": {
      "text/plain": [
       "5"
      ]
     },
     "execution_count": 214,
     "metadata": {},
     "output_type": "execute_result"
    }
   ],
   "source": [
    "def raggedToSquare(ll):\n",
    "    largest = max(max(row) for row in ll)\n",
    "    smallest = min(min(row) for row in ll)\n",
    "    maxcolums = max([len(row) for row in ll])\n",
    "    for row in ll:\n",
    "        row.extend(random.randint(smallest+1,largest-1) for i in range(maxcolums-len(row)))\n",
    "raggedToSquare(ll)\n"
   ]
  },
  {
   "cell_type": "code",
   "execution_count": null,
   "id": "b9bd8d5b-9447-45df-9b79-d2dd761cff98",
   "metadata": {},
   "outputs": [],
   "source": []
  }
 ],
 "metadata": {
  "kernelspec": {
   "display_name": "Python 3 (ipykernel)",
   "language": "python",
   "name": "python3"
  },
  "language_info": {
   "codemirror_mode": {
    "name": "ipython",
    "version": 3
   },
   "file_extension": ".py",
   "mimetype": "text/x-python",
   "name": "python",
   "nbconvert_exporter": "python",
   "pygments_lexer": "ipython3",
   "version": "3.12.9"
  }
 },
 "nbformat": 4,
 "nbformat_minor": 5
}
